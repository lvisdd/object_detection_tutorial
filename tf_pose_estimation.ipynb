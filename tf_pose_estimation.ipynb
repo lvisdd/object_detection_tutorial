{
  "nbformat": 4,
  "nbformat_minor": 0,
  "metadata": {
    "colab": {
      "name": "tf-pose-estimation.ipynb",
      "version": "0.3.2",
      "provenance": [],
      "include_colab_link": true
    },
    "kernelspec": {
      "name": "python3",
      "display_name": "Python 3"
    },
    "accelerator": "GPU"
  },
  "cells": [
    {
      "cell_type": "markdown",
      "metadata": {
        "id": "view-in-github",
        "colab_type": "text"
      },
      "source": [
        "<a href=\"https://colab.research.google.com/github/lvisdd/object_detection_tutorial/blob/master/tf_pose_estimation.ipynb\" target=\"_parent\"><img src=\"https://colab.research.google.com/assets/colab-badge.svg\" alt=\"Open In Colab\"/></a>"
      ]
    },
    {
      "cell_type": "code",
      "metadata": {
        "id": "-R1uApoYME_6",
        "colab_type": "code",
        "colab": {}
      },
      "source": [
        "# restart (or reset) your virtual machine\n",
        "#!kill -9 -1"
      ],
      "execution_count": 0,
      "outputs": []
    },
    {
      "cell_type": "markdown",
      "metadata": {
        "id": "uFYTLvv9IYHR",
        "colab_type": "text"
      },
      "source": [
        "# [tf-pose-estimation](https://github.com/ildoonet/tf-pose-estimation)"
      ]
    },
    {
      "cell_type": "markdown",
      "metadata": {
        "id": "1kbmMduVItfS",
        "colab_type": "text"
      },
      "source": [
        "## Install"
      ]
    },
    {
      "cell_type": "code",
      "metadata": {
        "id": "dJoqJqwsIjL6",
        "colab_type": "code",
        "colab": {
          "base_uri": "https://localhost:8080/",
          "height": 119
        },
        "outputId": "968c0d8a-4603-4ed7-d03a-428e6f968c93"
      },
      "source": [
        "!git clone https://www.github.com/ildoonet/tf-pose-estimation"
      ],
      "execution_count": 2,
      "outputs": [
        {
          "output_type": "stream",
          "text": [
            "Cloning into 'tf-pose-estimation'...\n",
            "warning: redirecting to https://github.com/ildoonet/tf-pose-estimation.git/\n",
            "remote: Enumerating objects: 1362, done.\u001b[K\n",
            "remote: Total 1362 (delta 0), reused 0 (delta 0), pack-reused 1362\n",
            "Receiving objects: 100% (1362/1362), 94.13 MiB | 18.61 MiB/s, done.\n",
            "Resolving deltas: 100% (729/729), done.\n"
          ],
          "name": "stdout"
        }
      ]
    },
    {
      "cell_type": "code",
      "metadata": {
        "id": "IsvRrnmzI66a",
        "colab_type": "code",
        "colab": {
          "base_uri": "https://localhost:8080/",
          "height": 34
        },
        "outputId": "2b3cbefa-45f6-406c-acf4-a219fd1acd7a"
      },
      "source": [
        "%cd tf-pose-estimation"
      ],
      "execution_count": 3,
      "outputs": [
        {
          "output_type": "stream",
          "text": [
            "/content/tf-pose-estimation\n"
          ],
          "name": "stdout"
        }
      ]
    },
    {
      "cell_type": "code",
      "metadata": {
        "id": "WYiTvJapI_ui",
        "colab_type": "code",
        "colab": {
          "base_uri": "https://localhost:8080/",
          "height": 1000
        },
        "outputId": "34da752f-dffd-43d6-902a-6a47b47641f1"
      },
      "source": [
        "!pip install -r requirements.txt"
      ],
      "execution_count": 4,
      "outputs": [
        {
          "output_type": "stream",
          "text": [
            "Collecting git+https://github.com/ppwwyyxx/tensorpack.git (from -r requirements.txt (line 13))\n",
            "  Cloning https://github.com/ppwwyyxx/tensorpack.git to /tmp/pip-req-build-j403zzbx\n",
            "  Running command git clone -q https://github.com/ppwwyyxx/tensorpack.git /tmp/pip-req-build-j403zzbx\n",
            "Collecting argparse (from -r requirements.txt (line 1))\n",
            "  Downloading https://files.pythonhosted.org/packages/f2/94/3af39d34be01a24a6e65433d19e107099374224905f1e0cc6bbe1fd22a2f/argparse-1.4.0-py2.py3-none-any.whl\n",
            "Requirement already satisfied: dill in /usr/local/lib/python3.6/dist-packages (from -r requirements.txt (line 2)) (0.3.0)\n",
            "Collecting fire (from -r requirements.txt (line 3))\n",
            "\u001b[?25l  Downloading https://files.pythonhosted.org/packages/d9/69/faeaae8687f4de0f5973694d02e9d6c3eb827636a009157352d98de1129e/fire-0.2.1.tar.gz (76kB)\n",
            "\u001b[K     |████████████████████████████████| 81kB 28.9MB/s \n",
            "\u001b[?25hRequirement already satisfied: matplotlib in /usr/local/lib/python3.6/dist-packages (from -r requirements.txt (line 4)) (3.0.3)\n",
            "Requirement already satisfied: numba in /usr/local/lib/python3.6/dist-packages (from -r requirements.txt (line 5)) (0.40.1)\n",
            "Requirement already satisfied: psutil in /usr/local/lib/python3.6/dist-packages (from -r requirements.txt (line 6)) (5.4.8)\n",
            "Requirement already satisfied: pycocotools in /usr/local/lib/python3.6/dist-packages (from -r requirements.txt (line 7)) (2.0.0)\n",
            "Requirement already satisfied: requests in /usr/local/lib/python3.6/dist-packages (from -r requirements.txt (line 8)) (2.21.0)\n",
            "Requirement already satisfied: scikit-image in /usr/local/lib/python3.6/dist-packages (from -r requirements.txt (line 9)) (0.15.0)\n",
            "Requirement already satisfied: scipy in /usr/local/lib/python3.6/dist-packages (from -r requirements.txt (line 10)) (1.3.1)\n",
            "Collecting slidingwindow (from -r requirements.txt (line 11))\n",
            "  Downloading https://files.pythonhosted.org/packages/3d/15/a2a2dc82fe9fa9699062b24e84e2cd2620f4ac0e2089d24eb8d0de0ce7ec/slidingwindow-0.0.13-py2.py3-none-any.whl\n",
            "Requirement already satisfied: tqdm in /usr/local/lib/python3.6/dist-packages (from -r requirements.txt (line 12)) (4.28.1)\n",
            "Requirement already satisfied: numpy>=1.14 in /usr/local/lib/python3.6/dist-packages (from tensorpack==0.9.7.1->-r requirements.txt (line 13)) (1.16.4)\n",
            "Requirement already satisfied: six in /usr/local/lib/python3.6/dist-packages (from tensorpack==0.9.7.1->-r requirements.txt (line 13)) (1.12.0)\n",
            "Requirement already satisfied: termcolor>=1.1 in /usr/local/lib/python3.6/dist-packages (from tensorpack==0.9.7.1->-r requirements.txt (line 13)) (1.1.0)\n",
            "Requirement already satisfied: tabulate>=0.7.7 in /usr/local/lib/python3.6/dist-packages (from tensorpack==0.9.7.1->-r requirements.txt (line 13)) (0.8.3)\n",
            "Requirement already satisfied: msgpack>=0.5.2 in /usr/local/lib/python3.6/dist-packages (from tensorpack==0.9.7.1->-r requirements.txt (line 13)) (0.5.6)\n",
            "Collecting msgpack-numpy>=0.4.4.2 (from tensorpack==0.9.7.1->-r requirements.txt (line 13))\n",
            "  Downloading https://files.pythonhosted.org/packages/c8/ab/09904a909bccc471f219fb8f5d0838cbcb10cc26089a2b29e84c893e216e/msgpack_numpy-0.4.4.3-py2.py3-none-any.whl\n",
            "Requirement already satisfied: pyzmq>=16 in /usr/local/lib/python3.6/dist-packages (from tensorpack==0.9.7.1->-r requirements.txt (line 13)) (17.0.0)\n",
            "Requirement already satisfied: cycler>=0.10 in /usr/local/lib/python3.6/dist-packages (from matplotlib->-r requirements.txt (line 4)) (0.10.0)\n",
            "Requirement already satisfied: pyparsing!=2.0.4,!=2.1.2,!=2.1.6,>=2.0.1 in /usr/local/lib/python3.6/dist-packages (from matplotlib->-r requirements.txt (line 4)) (2.4.2)\n",
            "Requirement already satisfied: python-dateutil>=2.1 in /usr/local/lib/python3.6/dist-packages (from matplotlib->-r requirements.txt (line 4)) (2.5.3)\n",
            "Requirement already satisfied: kiwisolver>=1.0.1 in /usr/local/lib/python3.6/dist-packages (from matplotlib->-r requirements.txt (line 4)) (1.1.0)\n",
            "Requirement already satisfied: llvmlite>=0.25.0dev0 in /usr/local/lib/python3.6/dist-packages (from numba->-r requirements.txt (line 5)) (0.29.0)\n",
            "Requirement already satisfied: chardet<3.1.0,>=3.0.2 in /usr/local/lib/python3.6/dist-packages (from requests->-r requirements.txt (line 8)) (3.0.4)\n",
            "Requirement already satisfied: urllib3<1.25,>=1.21.1 in /usr/local/lib/python3.6/dist-packages (from requests->-r requirements.txt (line 8)) (1.24.3)\n",
            "Requirement already satisfied: idna<2.9,>=2.5 in /usr/local/lib/python3.6/dist-packages (from requests->-r requirements.txt (line 8)) (2.8)\n",
            "Requirement already satisfied: certifi>=2017.4.17 in /usr/local/lib/python3.6/dist-packages (from requests->-r requirements.txt (line 8)) (2019.6.16)\n",
            "Requirement already satisfied: networkx>=2.0 in /usr/local/lib/python3.6/dist-packages (from scikit-image->-r requirements.txt (line 9)) (2.3)\n",
            "Requirement already satisfied: PyWavelets>=0.4.0 in /usr/local/lib/python3.6/dist-packages (from scikit-image->-r requirements.txt (line 9)) (1.0.3)\n",
            "Requirement already satisfied: pillow>=4.3.0 in /usr/local/lib/python3.6/dist-packages (from scikit-image->-r requirements.txt (line 9)) (4.3.0)\n",
            "Requirement already satisfied: imageio>=2.0.1 in /usr/local/lib/python3.6/dist-packages (from scikit-image->-r requirements.txt (line 9)) (2.4.1)\n",
            "Requirement already satisfied: setuptools in /usr/local/lib/python3.6/dist-packages (from kiwisolver>=1.0.1->matplotlib->-r requirements.txt (line 4)) (41.2.0)\n",
            "Requirement already satisfied: decorator>=4.3.0 in /usr/local/lib/python3.6/dist-packages (from networkx>=2.0->scikit-image->-r requirements.txt (line 9)) (4.4.0)\n",
            "Requirement already satisfied: olefile in /usr/local/lib/python3.6/dist-packages (from pillow>=4.3.0->scikit-image->-r requirements.txt (line 9)) (0.46)\n",
            "Building wheels for collected packages: fire, tensorpack\n",
            "  Building wheel for fire (setup.py) ... \u001b[?25l\u001b[?25hdone\n",
            "  Created wheel for fire: filename=fire-0.2.1-py2.py3-none-any.whl size=103527 sha256=df98fdf794e01a89dbbee3adb8a57568c3dfa40c93595971ca8b63d83e7b156a\n",
            "  Stored in directory: /root/.cache/pip/wheels/31/9c/c0/07b6dc7faf1844bb4688f46b569efe6cafaa2179c95db821da\n",
            "  Building wheel for tensorpack (setup.py) ... \u001b[?25l\u001b[?25hdone\n",
            "  Created wheel for tensorpack: filename=tensorpack-0.9.7.1-py2.py3-none-any.whl size=288298 sha256=63280ffcfd129a751824609674e581d21fe9502b8f2af85b77f94680213fed4f\n",
            "  Stored in directory: /tmp/pip-ephem-wheel-cache-6zsrfjhw/wheels/a8/b5/a9/025b3a1294b9ffff93309e6956c65aa80e0fa40821d29eff1e\n",
            "Successfully built fire tensorpack\n",
            "\u001b[31mERROR: tensorpack 0.9.7.1 has requirement tqdm>4.29.0, but you'll have tqdm 4.28.1 which is incompatible.\u001b[0m\n",
            "Installing collected packages: argparse, fire, slidingwindow, msgpack-numpy, tensorpack\n",
            "Successfully installed argparse-1.4.0 fire-0.2.1 msgpack-numpy-0.4.4.3 slidingwindow-0.0.13 tensorpack-0.9.7.1\n"
          ],
          "name": "stdout"
        },
        {
          "output_type": "display_data",
          "data": {
            "application/vnd.colab-display-data+json": {
              "pip_warning": {
                "packages": [
                  "argparse"
                ]
              }
            }
          },
          "metadata": {
            "tags": []
          }
        }
      ]
    },
    {
      "cell_type": "code",
      "metadata": {
        "id": "bOtL0QxaJN6K",
        "colab_type": "code",
        "colab": {
          "base_uri": "https://localhost:8080/",
          "height": 34
        },
        "outputId": "302080c7-c6c3-494d-8475-7fd62f1deb3c"
      },
      "source": [
        "%cd tf_pose/pafprocess"
      ],
      "execution_count": 5,
      "outputs": [
        {
          "output_type": "stream",
          "text": [
            "/content/tf-pose-estimation/tf_pose/pafprocess\n"
          ],
          "name": "stdout"
        }
      ]
    },
    {
      "cell_type": "code",
      "metadata": {
        "id": "Dv7-OV7OJT9a",
        "colab_type": "code",
        "colab": {
          "base_uri": "https://localhost:8080/",
          "height": 442
        },
        "outputId": "48c54e60-386a-4117-ab8c-968620d20e8b"
      },
      "source": [
        "!apt-get -q -y install swig"
      ],
      "execution_count": 6,
      "outputs": [
        {
          "output_type": "stream",
          "text": [
            "Reading package lists...\n",
            "Building dependency tree...\n",
            "Reading state information...\n",
            "The following additional packages will be installed:\n",
            "  swig3.0\n",
            "Suggested packages:\n",
            "  swig-doc swig-examples swig3.0-examples swig3.0-doc\n",
            "The following NEW packages will be installed:\n",
            "  swig swig3.0\n",
            "0 upgraded, 2 newly installed, 0 to remove and 8 not upgraded.\n",
            "Need to get 1,100 kB of archives.\n",
            "After this operation, 5,822 kB of additional disk space will be used.\n",
            "Get:1 http://archive.ubuntu.com/ubuntu bionic/universe amd64 swig3.0 amd64 3.0.12-1 [1,094 kB]\n",
            "Get:2 http://archive.ubuntu.com/ubuntu bionic/universe amd64 swig amd64 3.0.12-1 [6,460 B]\n",
            "Fetched 1,100 kB in 2s (452 kB/s)\n",
            "Selecting previously unselected package swig3.0.\n",
            "(Reading database ... 131183 files and directories currently installed.)\n",
            "Preparing to unpack .../swig3.0_3.0.12-1_amd64.deb ...\n",
            "Unpacking swig3.0 (3.0.12-1) ...\n",
            "Selecting previously unselected package swig.\n",
            "Preparing to unpack .../swig_3.0.12-1_amd64.deb ...\n",
            "Unpacking swig (3.0.12-1) ...\n",
            "Setting up swig3.0 (3.0.12-1) ...\n",
            "Processing triggers for man-db (2.8.3-2ubuntu0.1) ...\n",
            "Setting up swig (3.0.12-1) ...\n"
          ],
          "name": "stdout"
        }
      ]
    },
    {
      "cell_type": "code",
      "metadata": {
        "id": "WjzpTeScJe8K",
        "colab_type": "code",
        "colab": {
          "base_uri": "https://localhost:8080/",
          "height": 190
        },
        "outputId": "1a1bcef2-1ddd-4bd9-94d6-a8b9c3a1ca59"
      },
      "source": [
        "!swig -python -c++ pafprocess.i && python setup.py build_ext --inplace"
      ],
      "execution_count": 7,
      "outputs": [
        {
          "output_type": "stream",
          "text": [
            "running build_ext\n",
            "building '_pafprocess' extension\n",
            "swigging pafprocess.i to pafprocess_wrap.cpp\n",
            "swig -python -c++ -o pafprocess_wrap.cpp pafprocess.i\n",
            "creating build\n",
            "creating build/temp.linux-x86_64-3.6\n",
            "x86_64-linux-gnu-gcc -pthread -DNDEBUG -g -fwrapv -O2 -Wall -g -fstack-protector-strong -Wformat -Werror=format-security -Wdate-time -D_FORTIFY_SOURCE=2 -fPIC -I/usr/local/lib/python3.6/dist-packages/numpy/core/include -I. -I/usr/include/python3.6m -c pafprocess.cpp -o build/temp.linux-x86_64-3.6/pafprocess.o\n",
            "x86_64-linux-gnu-gcc -pthread -DNDEBUG -g -fwrapv -O2 -Wall -g -fstack-protector-strong -Wformat -Werror=format-security -Wdate-time -D_FORTIFY_SOURCE=2 -fPIC -I/usr/local/lib/python3.6/dist-packages/numpy/core/include -I. -I/usr/include/python3.6m -c pafprocess_wrap.cpp -o build/temp.linux-x86_64-3.6/pafprocess_wrap.o\n",
            "x86_64-linux-gnu-g++ -pthread -shared -Wl,-O1 -Wl,-Bsymbolic-functions -Wl,-Bsymbolic-functions -Wl,-z,relro -Wl,-Bsymbolic-functions -Wl,-z,relro -g -fstack-protector-strong -Wformat -Werror=format-security -Wdate-time -D_FORTIFY_SOURCE=2 build/temp.linux-x86_64-3.6/pafprocess.o build/temp.linux-x86_64-3.6/pafprocess_wrap.o -o /content/tf-pose-estimation/tf_pose/pafprocess/_pafprocess.cpython-36m-x86_64-linux-gnu.so\n"
          ],
          "name": "stdout"
        }
      ]
    },
    {
      "cell_type": "markdown",
      "metadata": {
        "id": "i8GgSbiUJrJ7",
        "colab_type": "text"
      },
      "source": [
        "## Download Tensorflow Graph File(pb file)"
      ]
    },
    {
      "cell_type": "code",
      "metadata": {
        "id": "SXf3ET2HJspy",
        "colab_type": "code",
        "colab": {
          "base_uri": "https://localhost:8080/",
          "height": 34
        },
        "outputId": "ce4c8562-7a6b-44bf-cdf0-910a4bb582e6"
      },
      "source": [
        "%cd /content/tf-pose-estimation"
      ],
      "execution_count": 8,
      "outputs": [
        {
          "output_type": "stream",
          "text": [
            "/content/tf-pose-estimation\n"
          ],
          "name": "stdout"
        }
      ]
    },
    {
      "cell_type": "code",
      "metadata": {
        "id": "6lR-LnGoKXoS",
        "colab_type": "code",
        "colab": {
          "base_uri": "https://localhost:8080/",
          "height": 34
        },
        "outputId": "bb56def1-46d7-4b29-81a7-f0143ccee639"
      },
      "source": [
        "%cd models/graph/cmu"
      ],
      "execution_count": 9,
      "outputs": [
        {
          "output_type": "stream",
          "text": [
            "/content/tf-pose-estimation/models/graph/cmu\n"
          ],
          "name": "stdout"
        }
      ]
    },
    {
      "cell_type": "code",
      "metadata": {
        "id": "YIWxEwmcKa4r",
        "colab_type": "code",
        "colab": {
          "base_uri": "https://localhost:8080/",
          "height": 238
        },
        "outputId": "8fb93ef2-4ed8-49b6-f54c-29d937c56580"
      },
      "source": [
        "!bash download.sh"
      ],
      "execution_count": 10,
      "outputs": [
        {
          "output_type": "stream",
          "text": [
            "[download] model graph : cmu\n",
            "--2019-08-28 17:07:28--  http://download686.mediafire.com/v3b42aqx2b1g/qlzzr20mpocnpa3/graph_opt.pb\n",
            "Resolving download686.mediafire.com (download686.mediafire.com)... 205.196.120.134\n",
            "Connecting to download686.mediafire.com (download686.mediafire.com)|205.196.120.134|:80... connected.\n",
            "HTTP request sent, awaiting response... 200 OK\n",
            "Length: 209299198 (200M) [application/octet-stream]\n",
            "Saving to: ‘/content/tf-pose-estimation/models/graph/cmu/graph_opt.pb’\n",
            "\n",
            "/content/tf-pose-es 100%[===================>] 199.60M  1.40MB/s    in 2m 26s  \n",
            "\n",
            "2019-08-28 17:09:54 (1.37 MB/s) - ‘/content/tf-pose-estimation/models/graph/cmu/graph_opt.pb’ saved [209299198/209299198]\n",
            "\n",
            "[download] end\n"
          ],
          "name": "stdout"
        }
      ]
    },
    {
      "cell_type": "markdown",
      "metadata": {
        "id": "lgDmm5K5KhYq",
        "colab_type": "text"
      },
      "source": [
        "## Test Inference"
      ]
    },
    {
      "cell_type": "code",
      "metadata": {
        "id": "p2WpfeFZLeNK",
        "colab_type": "code",
        "colab": {
          "base_uri": "https://localhost:8080/",
          "height": 34
        },
        "outputId": "aa06dea5-b849-4ff0-96ac-c80198624725"
      },
      "source": [
        "%cd /content/tf-pose-estimation"
      ],
      "execution_count": 11,
      "outputs": [
        {
          "output_type": "stream",
          "text": [
            "/content/tf-pose-estimation\n"
          ],
          "name": "stdout"
        }
      ]
    },
    {
      "cell_type": "code",
      "metadata": {
        "id": "PCpCsHWQKkY6",
        "colab_type": "code",
        "colab": {
          "base_uri": "https://localhost:8080/",
          "height": 1000
        },
        "outputId": "799561d2-b4c6-4870-fdaa-beaf79688b2b"
      },
      "source": [
        "%run -i run.py --model=mobilenet_thin --resize=432x368 --image=./images/p1.jpg"
      ],
      "execution_count": 12,
      "outputs": [
        {
          "output_type": "stream",
          "text": [
            "WARNING: Logging before flag parsing goes to stderr.\n",
            "W0828 17:09:57.120412 139649680385920 deprecation_wrapper.py:119] From /content/tf-pose-estimation/tf_pose/mobilenet/mobilenet.py:369: The name tf.nn.avg_pool is deprecated. Please use tf.nn.avg_pool2d instead.\n",
            "\n",
            "[2019-08-28 17:09:57,126] [TfPoseEstimator] [INFO] loading graph from /content/tf-pose-estimation/models/graph/mobilenet_thin/graph_opt.pb(default size=432x368)\n",
            "I0828 17:09:57.126258 139649680385920 estimator.py:310] loading graph from /content/tf-pose-estimation/models/graph/mobilenet_thin/graph_opt.pb(default size=432x368)\n",
            "W0828 17:09:57.127575 139649680385920 deprecation_wrapper.py:119] From /content/tf-pose-estimation/tf_pose/estimator.py:311: The name tf.gfile.GFile is deprecated. Please use tf.io.gfile.GFile instead.\n",
            "\n",
            "W0828 17:09:57.128260 139649680385920 deprecation_wrapper.py:119] From /content/tf-pose-estimation/tf_pose/estimator.py:312: The name tf.GraphDef is deprecated. Please use tf.compat.v1.GraphDef instead.\n",
            "\n",
            "W0828 17:09:57.149183 139649680385920 deprecation_wrapper.py:119] From /content/tf-pose-estimation/tf_pose/estimator.py:330: The name tf.get_default_graph is deprecated. Please use tf.compat.v1.get_default_graph instead.\n",
            "\n",
            "W0828 17:09:57.385795 139649680385920 deprecation_wrapper.py:119] From /content/tf-pose-estimation/tf_pose/estimator.py:332: The name tf.Session is deprecated. Please use tf.compat.v1.Session instead.\n",
            "\n",
            "W0828 17:09:57.637512 139649680385920 deprecation_wrapper.py:119] From /content/tf-pose-estimation/tf_pose/estimator.py:341: The name tf.placeholder is deprecated. Please use tf.compat.v1.placeholder instead.\n",
            "\n",
            "W0828 17:09:57.641364 139649680385920 deprecation_wrapper.py:119] From /content/tf-pose-estimation/tf_pose/estimator.py:342: The name tf.image.resize_area is deprecated. Please use tf.compat.v1.image.resize_area instead.\n",
            "\n",
            "W0828 17:09:57.649977 139649680385920 deprecation_wrapper.py:119] From /content/tf-pose-estimation/tf_pose/tensblur/smoother.py:96: The name tf.variable_scope is deprecated. Please use tf.compat.v1.variable_scope instead.\n",
            "\n",
            "W0828 17:09:57.660217 139649680385920 deprecation.py:323] From /content/tf-pose-estimation/tf_pose/estimator.py:354: add_dispatch_support.<locals>.wrapper (from tensorflow.python.ops.array_ops) is deprecated and will be removed in a future version.\n",
            "Instructions for updating:\n",
            "Use tf.where in 2.0, which has the same broadcast rule as np.where\n"
          ],
          "name": "stderr"
        },
        {
          "output_type": "stream",
          "text": [
            "TfPoseEstimator/MobilenetV1/Conv2d_0/weights\n",
            "TfPoseEstimator/image\n",
            "TfPoseEstimator/MobilenetV1/Conv2d_0/Conv2D\n",
            "TfPoseEstimator/MobilenetV1/Conv2d_0/Conv2D_bn_offset\n",
            "TfPoseEstimator/MobilenetV1/Conv2d_0/BatchNorm/FusedBatchNorm\n",
            "TfPoseEstimator/MobilenetV1/Conv2d_0/Relu\n",
            "TfPoseEstimator/MobilenetV1/Conv2d_1_depthwise/depthwise_weights\n",
            "TfPoseEstimator/MobilenetV1/Conv2d_1_pointwise/weights\n",
            "TfPoseEstimator/MobilenetV1/Conv2d_1_depthwise/depthwise\n",
            "TfPoseEstimator/MobilenetV1/Conv2d_1_pointwise/Conv2D\n",
            "TfPoseEstimator/MobilenetV1/Conv2d_1_pointwise/Conv2D_bn_offset\n",
            "TfPoseEstimator/MobilenetV1/Conv2d_1_pointwise/BatchNorm/FusedBatchNorm\n",
            "TfPoseEstimator/MobilenetV1/Conv2d_1_pointwise/Relu\n",
            "TfPoseEstimator/MobilenetV1/Conv2d_2_depthwise/depthwise_weights\n",
            "TfPoseEstimator/MobilenetV1/Conv2d_2_pointwise/weights\n",
            "TfPoseEstimator/MobilenetV1/Conv2d_2_depthwise/depthwise\n",
            "TfPoseEstimator/MobilenetV1/Conv2d_2_pointwise/Conv2D\n",
            "TfPoseEstimator/MobilenetV1/Conv2d_2_pointwise/Conv2D_bn_offset\n",
            "TfPoseEstimator/MobilenetV1/Conv2d_2_pointwise/BatchNorm/FusedBatchNorm\n",
            "TfPoseEstimator/MobilenetV1/Conv2d_2_pointwise/Relu\n",
            "TfPoseEstimator/MobilenetV1/Conv2d_3_depthwise/depthwise_weights\n",
            "TfPoseEstimator/MobilenetV1/Conv2d_3_pointwise/weights\n",
            "TfPoseEstimator/MobilenetV1/Conv2d_3_depthwise/depthwise\n",
            "TfPoseEstimator/MobilenetV1/Conv2d_3_pointwise/Conv2D\n",
            "TfPoseEstimator/MobilenetV1/Conv2d_3_pointwise/Conv2D_bn_offset\n",
            "TfPoseEstimator/MobilenetV1/Conv2d_3_pointwise/BatchNorm/FusedBatchNorm\n",
            "TfPoseEstimator/MobilenetV1/Conv2d_3_pointwise/Relu\n",
            "TfPoseEstimator/MobilenetV1/Conv2d_4_depthwise/depthwise_weights\n",
            "TfPoseEstimator/MobilenetV1/Conv2d_4_pointwise/weights\n",
            "TfPoseEstimator/MobilenetV1/Conv2d_4_depthwise/depthwise\n",
            "TfPoseEstimator/MobilenetV1/Conv2d_4_pointwise/Conv2D\n",
            "TfPoseEstimator/MobilenetV1/Conv2d_4_pointwise/Conv2D_bn_offset\n",
            "TfPoseEstimator/MobilenetV1/Conv2d_4_pointwise/BatchNorm/FusedBatchNorm\n",
            "TfPoseEstimator/MobilenetV1/Conv2d_4_pointwise/Relu\n",
            "TfPoseEstimator/MobilenetV1/Conv2d_5_depthwise/depthwise_weights\n",
            "TfPoseEstimator/MobilenetV1/Conv2d_5_pointwise/weights\n",
            "TfPoseEstimator/MobilenetV1/Conv2d_5_depthwise/depthwise\n",
            "TfPoseEstimator/MobilenetV1/Conv2d_5_pointwise/Conv2D\n",
            "TfPoseEstimator/MobilenetV1/Conv2d_5_pointwise/Conv2D_bn_offset\n",
            "TfPoseEstimator/MobilenetV1/Conv2d_5_pointwise/BatchNorm/FusedBatchNorm\n",
            "TfPoseEstimator/MobilenetV1/Conv2d_5_pointwise/Relu\n",
            "TfPoseEstimator/MobilenetV1/Conv2d_6_depthwise/depthwise_weights\n",
            "TfPoseEstimator/MobilenetV1/Conv2d_6_pointwise/weights\n",
            "TfPoseEstimator/MobilenetV1/Conv2d_6_depthwise/depthwise\n",
            "TfPoseEstimator/MobilenetV1/Conv2d_6_pointwise/Conv2D\n",
            "TfPoseEstimator/MobilenetV1/Conv2d_6_pointwise/Conv2D_bn_offset\n",
            "TfPoseEstimator/MobilenetV1/Conv2d_6_pointwise/BatchNorm/FusedBatchNorm\n",
            "TfPoseEstimator/MobilenetV1/Conv2d_6_pointwise/Relu\n",
            "TfPoseEstimator/MobilenetV1/Conv2d_7_depthwise/depthwise_weights\n",
            "TfPoseEstimator/MobilenetV1/Conv2d_7_pointwise/weights\n",
            "TfPoseEstimator/MobilenetV1/Conv2d_7_depthwise/depthwise\n",
            "TfPoseEstimator/MobilenetV1/Conv2d_7_pointwise/Conv2D\n",
            "TfPoseEstimator/MobilenetV1/Conv2d_7_pointwise/Conv2D_bn_offset\n",
            "TfPoseEstimator/MobilenetV1/Conv2d_7_pointwise/BatchNorm/FusedBatchNorm\n",
            "TfPoseEstimator/MobilenetV1/Conv2d_7_pointwise/Relu\n",
            "TfPoseEstimator/MobilenetV1/Conv2d_8_depthwise/depthwise_weights\n",
            "TfPoseEstimator/MobilenetV1/Conv2d_8_pointwise/weights\n",
            "TfPoseEstimator/MobilenetV1/Conv2d_8_depthwise/depthwise\n",
            "TfPoseEstimator/MobilenetV1/Conv2d_8_pointwise/Conv2D\n",
            "TfPoseEstimator/MobilenetV1/Conv2d_8_pointwise/Conv2D_bn_offset\n",
            "TfPoseEstimator/MobilenetV1/Conv2d_8_pointwise/BatchNorm/FusedBatchNorm\n",
            "TfPoseEstimator/MobilenetV1/Conv2d_8_pointwise/Relu\n",
            "TfPoseEstimator/MobilenetV1/Conv2d_9_depthwise/depthwise_weights\n",
            "TfPoseEstimator/MobilenetV1/Conv2d_9_pointwise/weights\n",
            "TfPoseEstimator/MobilenetV1/Conv2d_9_depthwise/depthwise\n",
            "TfPoseEstimator/MobilenetV1/Conv2d_9_pointwise/Conv2D\n",
            "TfPoseEstimator/MobilenetV1/Conv2d_9_pointwise/Conv2D_bn_offset\n",
            "TfPoseEstimator/MobilenetV1/Conv2d_9_pointwise/BatchNorm/FusedBatchNorm\n",
            "TfPoseEstimator/MobilenetV1/Conv2d_9_pointwise/Relu\n",
            "TfPoseEstimator/MobilenetV1/Conv2d_10_depthwise/depthwise_weights\n",
            "TfPoseEstimator/MobilenetV1/Conv2d_10_pointwise/weights\n",
            "TfPoseEstimator/MobilenetV1/Conv2d_10_depthwise/depthwise\n",
            "TfPoseEstimator/MobilenetV1/Conv2d_10_pointwise/Conv2D\n",
            "TfPoseEstimator/MobilenetV1/Conv2d_10_pointwise/Conv2D_bn_offset\n",
            "TfPoseEstimator/MobilenetV1/Conv2d_10_pointwise/BatchNorm/FusedBatchNorm\n",
            "TfPoseEstimator/MobilenetV1/Conv2d_10_pointwise/Relu\n",
            "TfPoseEstimator/MobilenetV1/Conv2d_11_depthwise/depthwise_weights\n",
            "TfPoseEstimator/MobilenetV1/Conv2d_11_pointwise/weights\n",
            "TfPoseEstimator/MobilenetV1/Conv2d_11_depthwise/depthwise\n",
            "TfPoseEstimator/MobilenetV1/Conv2d_11_pointwise/Conv2D\n",
            "TfPoseEstimator/MobilenetV1/Conv2d_11_pointwise/Conv2D_bn_offset\n",
            "TfPoseEstimator/MobilenetV1/Conv2d_11_pointwise/BatchNorm/FusedBatchNorm\n",
            "TfPoseEstimator/MobilenetV1/Conv2d_11_pointwise/Relu\n",
            "TfPoseEstimator/Conv2d_3_pool\n",
            "TfPoseEstimator/feat_concat/axis\n",
            "TfPoseEstimator/feat_concat\n",
            "TfPoseEstimator/Openpose/MConv_Stage1_L1_1_depthwise/depthwise_weights\n",
            "TfPoseEstimator/Openpose/MConv_Stage1_L1_1_pointwise/weights\n",
            "TfPoseEstimator/Openpose/MConv_Stage1_L1_1_depthwise/depthwise\n",
            "TfPoseEstimator/Openpose/MConv_Stage1_L1_1_pointwise/Conv2D\n",
            "TfPoseEstimator/Openpose/MConv_Stage1_L1_1_pointwise/Conv2D_bn_offset\n",
            "TfPoseEstimator/Openpose/MConv_Stage1_L1_1_pointwise/BatchNorm/FusedBatchNorm\n",
            "TfPoseEstimator/Openpose/MConv_Stage1_L1_1_pointwise/Relu\n",
            "TfPoseEstimator/Openpose/MConv_Stage1_L1_2_depthwise/depthwise_weights\n",
            "TfPoseEstimator/Openpose/MConv_Stage1_L1_2_pointwise/weights\n",
            "TfPoseEstimator/Openpose/MConv_Stage1_L1_2_depthwise/depthwise\n",
            "TfPoseEstimator/Openpose/MConv_Stage1_L1_2_pointwise/Conv2D\n",
            "TfPoseEstimator/Openpose/MConv_Stage1_L1_2_pointwise/Conv2D_bn_offset\n",
            "TfPoseEstimator/Openpose/MConv_Stage1_L1_2_pointwise/BatchNorm/FusedBatchNorm\n",
            "TfPoseEstimator/Openpose/MConv_Stage1_L1_2_pointwise/Relu\n",
            "TfPoseEstimator/Openpose/MConv_Stage1_L1_3_depthwise/depthwise_weights\n",
            "TfPoseEstimator/Openpose/MConv_Stage1_L1_3_pointwise/weights\n",
            "TfPoseEstimator/Openpose/MConv_Stage1_L1_3_depthwise/depthwise\n",
            "TfPoseEstimator/Openpose/MConv_Stage1_L1_3_pointwise/Conv2D\n",
            "TfPoseEstimator/Openpose/MConv_Stage1_L1_3_pointwise/Conv2D_bn_offset\n",
            "TfPoseEstimator/Openpose/MConv_Stage1_L1_3_pointwise/BatchNorm/FusedBatchNorm\n",
            "TfPoseEstimator/Openpose/MConv_Stage1_L1_3_pointwise/Relu\n",
            "TfPoseEstimator/Openpose/MConv_Stage1_L1_4_depthwise/depthwise_weights\n",
            "TfPoseEstimator/Openpose/MConv_Stage1_L1_4_pointwise/weights\n",
            "TfPoseEstimator/Openpose/MConv_Stage1_L1_4_depthwise/depthwise\n",
            "TfPoseEstimator/Openpose/MConv_Stage1_L1_4_pointwise/Conv2D\n",
            "TfPoseEstimator/Openpose/MConv_Stage1_L1_4_pointwise/Conv2D_bn_offset\n",
            "TfPoseEstimator/Openpose/MConv_Stage1_L1_4_pointwise/BatchNorm/FusedBatchNorm\n",
            "TfPoseEstimator/Openpose/MConv_Stage1_L1_4_pointwise/Relu\n",
            "TfPoseEstimator/Openpose/MConv_Stage1_L1_5_depthwise/depthwise_weights\n",
            "TfPoseEstimator/Openpose/MConv_Stage1_L1_5_pointwise/weights\n",
            "TfPoseEstimator/Openpose/MConv_Stage1_L1_5_depthwise/depthwise\n",
            "TfPoseEstimator/Openpose/MConv_Stage1_L1_5_pointwise/Conv2D\n",
            "TfPoseEstimator/Openpose/MConv_Stage1_L1_5_pointwise/Conv2D_bn_offset\n",
            "TfPoseEstimator/Openpose/MConv_Stage1_L1_5_pointwise/BatchNorm/FusedBatchNorm\n",
            "TfPoseEstimator/Openpose/MConv_Stage1_L2_1_depthwise/depthwise_weights\n",
            "TfPoseEstimator/Openpose/MConv_Stage1_L2_1_pointwise/weights\n",
            "TfPoseEstimator/Openpose/MConv_Stage1_L2_1_depthwise/depthwise\n",
            "TfPoseEstimator/Openpose/MConv_Stage1_L2_1_pointwise/Conv2D\n",
            "TfPoseEstimator/Openpose/MConv_Stage1_L2_1_pointwise/Conv2D_bn_offset\n",
            "TfPoseEstimator/Openpose/MConv_Stage1_L2_1_pointwise/BatchNorm/FusedBatchNorm\n",
            "TfPoseEstimator/Openpose/MConv_Stage1_L2_1_pointwise/Relu\n",
            "TfPoseEstimator/Openpose/MConv_Stage1_L2_2_depthwise/depthwise_weights\n",
            "TfPoseEstimator/Openpose/MConv_Stage1_L2_2_pointwise/weights\n",
            "TfPoseEstimator/Openpose/MConv_Stage1_L2_2_depthwise/depthwise\n",
            "TfPoseEstimator/Openpose/MConv_Stage1_L2_2_pointwise/Conv2D\n",
            "TfPoseEstimator/Openpose/MConv_Stage1_L2_2_pointwise/Conv2D_bn_offset\n",
            "TfPoseEstimator/Openpose/MConv_Stage1_L2_2_pointwise/BatchNorm/FusedBatchNorm\n",
            "TfPoseEstimator/Openpose/MConv_Stage1_L2_2_pointwise/Relu\n",
            "TfPoseEstimator/Openpose/MConv_Stage1_L2_3_depthwise/depthwise_weights\n",
            "TfPoseEstimator/Openpose/MConv_Stage1_L2_3_pointwise/weights\n",
            "TfPoseEstimator/Openpose/MConv_Stage1_L2_3_depthwise/depthwise\n",
            "TfPoseEstimator/Openpose/MConv_Stage1_L2_3_pointwise/Conv2D\n",
            "TfPoseEstimator/Openpose/MConv_Stage1_L2_3_pointwise/Conv2D_bn_offset\n",
            "TfPoseEstimator/Openpose/MConv_Stage1_L2_3_pointwise/BatchNorm/FusedBatchNorm\n",
            "TfPoseEstimator/Openpose/MConv_Stage1_L2_3_pointwise/Relu\n",
            "TfPoseEstimator/Openpose/MConv_Stage1_L2_4_depthwise/depthwise_weights\n",
            "TfPoseEstimator/Openpose/MConv_Stage1_L2_4_pointwise/weights\n",
            "TfPoseEstimator/Openpose/MConv_Stage1_L2_4_depthwise/depthwise\n",
            "TfPoseEstimator/Openpose/MConv_Stage1_L2_4_pointwise/Conv2D\n",
            "TfPoseEstimator/Openpose/MConv_Stage1_L2_4_pointwise/Conv2D_bn_offset\n",
            "TfPoseEstimator/Openpose/MConv_Stage1_L2_4_pointwise/BatchNorm/FusedBatchNorm\n",
            "TfPoseEstimator/Openpose/MConv_Stage1_L2_4_pointwise/Relu\n",
            "TfPoseEstimator/Openpose/MConv_Stage1_L2_5_depthwise/depthwise_weights\n",
            "TfPoseEstimator/Openpose/MConv_Stage1_L2_5_pointwise/weights\n",
            "TfPoseEstimator/Openpose/MConv_Stage1_L2_5_depthwise/depthwise\n",
            "TfPoseEstimator/Openpose/MConv_Stage1_L2_5_pointwise/Conv2D\n",
            "TfPoseEstimator/Openpose/MConv_Stage1_L2_5_pointwise/Conv2D_bn_offset\n",
            "TfPoseEstimator/Openpose/MConv_Stage1_L2_5_pointwise/BatchNorm/FusedBatchNorm\n",
            "TfPoseEstimator/Openpose/MConv_Stage2_concat/axis\n",
            "TfPoseEstimator/Openpose/MConv_Stage2_concat\n",
            "TfPoseEstimator/Openpose/MConv_Stage2_L1_1_depthwise/depthwise_weights\n",
            "TfPoseEstimator/Openpose/MConv_Stage2_L1_1_pointwise/weights\n",
            "TfPoseEstimator/Openpose/MConv_Stage2_L1_1_depthwise/depthwise\n",
            "TfPoseEstimator/Openpose/MConv_Stage2_L1_1_pointwise/Conv2D\n",
            "TfPoseEstimator/Openpose/MConv_Stage2_L1_1_pointwise/Conv2D_bn_offset\n",
            "TfPoseEstimator/Openpose/MConv_Stage2_L1_1_pointwise/BatchNorm/FusedBatchNorm\n",
            "TfPoseEstimator/Openpose/MConv_Stage2_L1_1_pointwise/Relu\n",
            "TfPoseEstimator/Openpose/MConv_Stage2_L1_2_depthwise/depthwise_weights\n",
            "TfPoseEstimator/Openpose/MConv_Stage2_L1_2_pointwise/weights\n",
            "TfPoseEstimator/Openpose/MConv_Stage2_L1_2_depthwise/depthwise\n",
            "TfPoseEstimator/Openpose/MConv_Stage2_L1_2_pointwise/Conv2D\n",
            "TfPoseEstimator/Openpose/MConv_Stage2_L1_2_pointwise/Conv2D_bn_offset\n",
            "TfPoseEstimator/Openpose/MConv_Stage2_L1_2_pointwise/BatchNorm/FusedBatchNorm\n",
            "TfPoseEstimator/Openpose/MConv_Stage2_L1_2_pointwise/Relu\n",
            "TfPoseEstimator/Openpose/MConv_Stage2_L1_3_depthwise/depthwise_weights\n",
            "TfPoseEstimator/Openpose/MConv_Stage2_L1_3_pointwise/weights\n",
            "TfPoseEstimator/Openpose/MConv_Stage2_L1_3_depthwise/depthwise\n",
            "TfPoseEstimator/Openpose/MConv_Stage2_L1_3_pointwise/Conv2D\n",
            "TfPoseEstimator/Openpose/MConv_Stage2_L1_3_pointwise/Conv2D_bn_offset\n",
            "TfPoseEstimator/Openpose/MConv_Stage2_L1_3_pointwise/BatchNorm/FusedBatchNorm\n",
            "TfPoseEstimator/Openpose/MConv_Stage2_L1_3_pointwise/Relu\n",
            "TfPoseEstimator/Openpose/MConv_Stage2_L1_4_depthwise/depthwise_weights\n",
            "TfPoseEstimator/Openpose/MConv_Stage2_L1_4_pointwise/weights\n",
            "TfPoseEstimator/Openpose/MConv_Stage2_L1_4_depthwise/depthwise\n",
            "TfPoseEstimator/Openpose/MConv_Stage2_L1_4_pointwise/Conv2D\n",
            "TfPoseEstimator/Openpose/MConv_Stage2_L1_4_pointwise/Conv2D_bn_offset\n",
            "TfPoseEstimator/Openpose/MConv_Stage2_L1_4_pointwise/BatchNorm/FusedBatchNorm\n",
            "TfPoseEstimator/Openpose/MConv_Stage2_L1_4_pointwise/Relu\n",
            "TfPoseEstimator/Openpose/MConv_Stage2_L1_5_depthwise/depthwise_weights\n",
            "TfPoseEstimator/Openpose/MConv_Stage2_L1_5_pointwise/weights\n",
            "TfPoseEstimator/Openpose/MConv_Stage2_L1_5_depthwise/depthwise\n",
            "TfPoseEstimator/Openpose/MConv_Stage2_L1_5_pointwise/Conv2D\n",
            "TfPoseEstimator/Openpose/MConv_Stage2_L1_5_pointwise/Conv2D_bn_offset\n",
            "TfPoseEstimator/Openpose/MConv_Stage2_L1_5_pointwise/BatchNorm/FusedBatchNorm\n",
            "TfPoseEstimator/Openpose/MConv_Stage2_L2_1_depthwise/depthwise_weights\n",
            "TfPoseEstimator/Openpose/MConv_Stage2_L2_1_pointwise/weights\n",
            "TfPoseEstimator/Openpose/MConv_Stage2_L2_1_depthwise/depthwise\n",
            "TfPoseEstimator/Openpose/MConv_Stage2_L2_1_pointwise/Conv2D\n",
            "TfPoseEstimator/Openpose/MConv_Stage2_L2_1_pointwise/Conv2D_bn_offset\n",
            "TfPoseEstimator/Openpose/MConv_Stage2_L2_1_pointwise/BatchNorm/FusedBatchNorm\n",
            "TfPoseEstimator/Openpose/MConv_Stage2_L2_1_pointwise/Relu\n",
            "TfPoseEstimator/Openpose/MConv_Stage2_L2_2_depthwise/depthwise_weights\n",
            "TfPoseEstimator/Openpose/MConv_Stage2_L2_2_pointwise/weights\n",
            "TfPoseEstimator/Openpose/MConv_Stage2_L2_2_depthwise/depthwise\n",
            "TfPoseEstimator/Openpose/MConv_Stage2_L2_2_pointwise/Conv2D\n",
            "TfPoseEstimator/Openpose/MConv_Stage2_L2_2_pointwise/Conv2D_bn_offset\n",
            "TfPoseEstimator/Openpose/MConv_Stage2_L2_2_pointwise/BatchNorm/FusedBatchNorm\n",
            "TfPoseEstimator/Openpose/MConv_Stage2_L2_2_pointwise/Relu\n",
            "TfPoseEstimator/Openpose/MConv_Stage2_L2_3_depthwise/depthwise_weights\n",
            "TfPoseEstimator/Openpose/MConv_Stage2_L2_3_pointwise/weights\n",
            "TfPoseEstimator/Openpose/MConv_Stage2_L2_3_depthwise/depthwise\n",
            "TfPoseEstimator/Openpose/MConv_Stage2_L2_3_pointwise/Conv2D\n",
            "TfPoseEstimator/Openpose/MConv_Stage2_L2_3_pointwise/Conv2D_bn_offset\n",
            "TfPoseEstimator/Openpose/MConv_Stage2_L2_3_pointwise/BatchNorm/FusedBatchNorm\n",
            "TfPoseEstimator/Openpose/MConv_Stage2_L2_3_pointwise/Relu\n",
            "TfPoseEstimator/Openpose/MConv_Stage2_L2_4_depthwise/depthwise_weights\n",
            "TfPoseEstimator/Openpose/MConv_Stage2_L2_4_pointwise/weights\n",
            "TfPoseEstimator/Openpose/MConv_Stage2_L2_4_depthwise/depthwise\n",
            "TfPoseEstimator/Openpose/MConv_Stage2_L2_4_pointwise/Conv2D\n",
            "TfPoseEstimator/Openpose/MConv_Stage2_L2_4_pointwise/Conv2D_bn_offset\n",
            "TfPoseEstimator/Openpose/MConv_Stage2_L2_4_pointwise/BatchNorm/FusedBatchNorm\n",
            "TfPoseEstimator/Openpose/MConv_Stage2_L2_4_pointwise/Relu\n",
            "TfPoseEstimator/Openpose/MConv_Stage2_L2_5_depthwise/depthwise_weights\n",
            "TfPoseEstimator/Openpose/MConv_Stage2_L2_5_pointwise/weights\n",
            "TfPoseEstimator/Openpose/MConv_Stage2_L2_5_depthwise/depthwise\n",
            "TfPoseEstimator/Openpose/MConv_Stage2_L2_5_pointwise/Conv2D\n",
            "TfPoseEstimator/Openpose/MConv_Stage2_L2_5_pointwise/Conv2D_bn_offset\n",
            "TfPoseEstimator/Openpose/MConv_Stage2_L2_5_pointwise/BatchNorm/FusedBatchNorm\n",
            "TfPoseEstimator/Openpose/MConv_Stage3_concat/axis\n",
            "TfPoseEstimator/Openpose/MConv_Stage3_concat\n",
            "TfPoseEstimator/Openpose/MConv_Stage3_L1_1_depthwise/depthwise_weights\n",
            "TfPoseEstimator/Openpose/MConv_Stage3_L1_1_pointwise/weights\n",
            "TfPoseEstimator/Openpose/MConv_Stage3_L1_1_depthwise/depthwise\n",
            "TfPoseEstimator/Openpose/MConv_Stage3_L1_1_pointwise/Conv2D\n",
            "TfPoseEstimator/Openpose/MConv_Stage3_L1_1_pointwise/Conv2D_bn_offset\n",
            "TfPoseEstimator/Openpose/MConv_Stage3_L1_1_pointwise/BatchNorm/FusedBatchNorm\n",
            "TfPoseEstimator/Openpose/MConv_Stage3_L1_1_pointwise/Relu\n",
            "TfPoseEstimator/Openpose/MConv_Stage3_L1_2_depthwise/depthwise_weights\n",
            "TfPoseEstimator/Openpose/MConv_Stage3_L1_2_pointwise/weights\n",
            "TfPoseEstimator/Openpose/MConv_Stage3_L1_2_depthwise/depthwise\n",
            "TfPoseEstimator/Openpose/MConv_Stage3_L1_2_pointwise/Conv2D\n",
            "TfPoseEstimator/Openpose/MConv_Stage3_L1_2_pointwise/Conv2D_bn_offset\n",
            "TfPoseEstimator/Openpose/MConv_Stage3_L1_2_pointwise/BatchNorm/FusedBatchNorm\n",
            "TfPoseEstimator/Openpose/MConv_Stage3_L1_2_pointwise/Relu\n",
            "TfPoseEstimator/Openpose/MConv_Stage3_L1_3_depthwise/depthwise_weights\n",
            "TfPoseEstimator/Openpose/MConv_Stage3_L1_3_pointwise/weights\n",
            "TfPoseEstimator/Openpose/MConv_Stage3_L1_3_depthwise/depthwise\n",
            "TfPoseEstimator/Openpose/MConv_Stage3_L1_3_pointwise/Conv2D\n",
            "TfPoseEstimator/Openpose/MConv_Stage3_L1_3_pointwise/Conv2D_bn_offset\n",
            "TfPoseEstimator/Openpose/MConv_Stage3_L1_3_pointwise/BatchNorm/FusedBatchNorm\n",
            "TfPoseEstimator/Openpose/MConv_Stage3_L1_3_pointwise/Relu\n",
            "TfPoseEstimator/Openpose/MConv_Stage3_L1_4_depthwise/depthwise_weights\n",
            "TfPoseEstimator/Openpose/MConv_Stage3_L1_4_pointwise/weights\n",
            "TfPoseEstimator/Openpose/MConv_Stage3_L1_4_depthwise/depthwise\n",
            "TfPoseEstimator/Openpose/MConv_Stage3_L1_4_pointwise/Conv2D\n",
            "TfPoseEstimator/Openpose/MConv_Stage3_L1_4_pointwise/Conv2D_bn_offset\n",
            "TfPoseEstimator/Openpose/MConv_Stage3_L1_4_pointwise/BatchNorm/FusedBatchNorm\n",
            "TfPoseEstimator/Openpose/MConv_Stage3_L1_4_pointwise/Relu\n",
            "TfPoseEstimator/Openpose/MConv_Stage3_L1_5_depthwise/depthwise_weights\n",
            "TfPoseEstimator/Openpose/MConv_Stage3_L1_5_pointwise/weights\n",
            "TfPoseEstimator/Openpose/MConv_Stage3_L1_5_depthwise/depthwise\n",
            "TfPoseEstimator/Openpose/MConv_Stage3_L1_5_pointwise/Conv2D\n",
            "TfPoseEstimator/Openpose/MConv_Stage3_L1_5_pointwise/Conv2D_bn_offset\n",
            "TfPoseEstimator/Openpose/MConv_Stage3_L1_5_pointwise/BatchNorm/FusedBatchNorm\n",
            "TfPoseEstimator/Openpose/MConv_Stage3_L2_1_depthwise/depthwise_weights\n",
            "TfPoseEstimator/Openpose/MConv_Stage3_L2_1_pointwise/weights\n",
            "TfPoseEstimator/Openpose/MConv_Stage3_L2_1_depthwise/depthwise\n",
            "TfPoseEstimator/Openpose/MConv_Stage3_L2_1_pointwise/Conv2D\n",
            "TfPoseEstimator/Openpose/MConv_Stage3_L2_1_pointwise/Conv2D_bn_offset\n",
            "TfPoseEstimator/Openpose/MConv_Stage3_L2_1_pointwise/BatchNorm/FusedBatchNorm\n",
            "TfPoseEstimator/Openpose/MConv_Stage3_L2_1_pointwise/Relu\n",
            "TfPoseEstimator/Openpose/MConv_Stage3_L2_2_depthwise/depthwise_weights\n",
            "TfPoseEstimator/Openpose/MConv_Stage3_L2_2_pointwise/weights\n",
            "TfPoseEstimator/Openpose/MConv_Stage3_L2_2_depthwise/depthwise\n",
            "TfPoseEstimator/Openpose/MConv_Stage3_L2_2_pointwise/Conv2D\n",
            "TfPoseEstimator/Openpose/MConv_Stage3_L2_2_pointwise/Conv2D_bn_offset\n",
            "TfPoseEstimator/Openpose/MConv_Stage3_L2_2_pointwise/BatchNorm/FusedBatchNorm\n",
            "TfPoseEstimator/Openpose/MConv_Stage3_L2_2_pointwise/Relu\n",
            "TfPoseEstimator/Openpose/MConv_Stage3_L2_3_depthwise/depthwise_weights\n",
            "TfPoseEstimator/Openpose/MConv_Stage3_L2_3_pointwise/weights\n",
            "TfPoseEstimator/Openpose/MConv_Stage3_L2_3_depthwise/depthwise\n",
            "TfPoseEstimator/Openpose/MConv_Stage3_L2_3_pointwise/Conv2D\n",
            "TfPoseEstimator/Openpose/MConv_Stage3_L2_3_pointwise/Conv2D_bn_offset\n",
            "TfPoseEstimator/Openpose/MConv_Stage3_L2_3_pointwise/BatchNorm/FusedBatchNorm\n",
            "TfPoseEstimator/Openpose/MConv_Stage3_L2_3_pointwise/Relu\n",
            "TfPoseEstimator/Openpose/MConv_Stage3_L2_4_depthwise/depthwise_weights\n",
            "TfPoseEstimator/Openpose/MConv_Stage3_L2_4_pointwise/weights\n",
            "TfPoseEstimator/Openpose/MConv_Stage3_L2_4_depthwise/depthwise\n",
            "TfPoseEstimator/Openpose/MConv_Stage3_L2_4_pointwise/Conv2D\n",
            "TfPoseEstimator/Openpose/MConv_Stage3_L2_4_pointwise/Conv2D_bn_offset\n",
            "TfPoseEstimator/Openpose/MConv_Stage3_L2_4_pointwise/BatchNorm/FusedBatchNorm\n",
            "TfPoseEstimator/Openpose/MConv_Stage3_L2_4_pointwise/Relu\n",
            "TfPoseEstimator/Openpose/MConv_Stage3_L2_5_depthwise/depthwise_weights\n",
            "TfPoseEstimator/Openpose/MConv_Stage3_L2_5_pointwise/weights\n",
            "TfPoseEstimator/Openpose/MConv_Stage3_L2_5_depthwise/depthwise\n",
            "TfPoseEstimator/Openpose/MConv_Stage3_L2_5_pointwise/Conv2D\n",
            "TfPoseEstimator/Openpose/MConv_Stage3_L2_5_pointwise/Conv2D_bn_offset\n",
            "TfPoseEstimator/Openpose/MConv_Stage3_L2_5_pointwise/BatchNorm/FusedBatchNorm\n",
            "TfPoseEstimator/Openpose/MConv_Stage4_concat/axis\n",
            "TfPoseEstimator/Openpose/MConv_Stage4_concat\n",
            "TfPoseEstimator/Openpose/MConv_Stage4_L1_1_depthwise/depthwise_weights\n",
            "TfPoseEstimator/Openpose/MConv_Stage4_L1_1_pointwise/weights\n",
            "TfPoseEstimator/Openpose/MConv_Stage4_L1_1_depthwise/depthwise\n",
            "TfPoseEstimator/Openpose/MConv_Stage4_L1_1_pointwise/Conv2D\n",
            "TfPoseEstimator/Openpose/MConv_Stage4_L1_1_pointwise/Conv2D_bn_offset\n",
            "TfPoseEstimator/Openpose/MConv_Stage4_L1_1_pointwise/BatchNorm/FusedBatchNorm\n",
            "TfPoseEstimator/Openpose/MConv_Stage4_L1_1_pointwise/Relu\n",
            "TfPoseEstimator/Openpose/MConv_Stage4_L1_2_depthwise/depthwise_weights\n",
            "TfPoseEstimator/Openpose/MConv_Stage4_L1_2_pointwise/weights\n",
            "TfPoseEstimator/Openpose/MConv_Stage4_L1_2_depthwise/depthwise\n",
            "TfPoseEstimator/Openpose/MConv_Stage4_L1_2_pointwise/Conv2D\n",
            "TfPoseEstimator/Openpose/MConv_Stage4_L1_2_pointwise/Conv2D_bn_offset\n",
            "TfPoseEstimator/Openpose/MConv_Stage4_L1_2_pointwise/BatchNorm/FusedBatchNorm\n",
            "TfPoseEstimator/Openpose/MConv_Stage4_L1_2_pointwise/Relu\n",
            "TfPoseEstimator/Openpose/MConv_Stage4_L1_3_depthwise/depthwise_weights\n",
            "TfPoseEstimator/Openpose/MConv_Stage4_L1_3_pointwise/weights\n",
            "TfPoseEstimator/Openpose/MConv_Stage4_L1_3_depthwise/depthwise\n",
            "TfPoseEstimator/Openpose/MConv_Stage4_L1_3_pointwise/Conv2D\n",
            "TfPoseEstimator/Openpose/MConv_Stage4_L1_3_pointwise/Conv2D_bn_offset\n",
            "TfPoseEstimator/Openpose/MConv_Stage4_L1_3_pointwise/BatchNorm/FusedBatchNorm\n",
            "TfPoseEstimator/Openpose/MConv_Stage4_L1_3_pointwise/Relu\n",
            "TfPoseEstimator/Openpose/MConv_Stage4_L1_4_depthwise/depthwise_weights\n",
            "TfPoseEstimator/Openpose/MConv_Stage4_L1_4_pointwise/weights\n",
            "TfPoseEstimator/Openpose/MConv_Stage4_L1_4_depthwise/depthwise\n",
            "TfPoseEstimator/Openpose/MConv_Stage4_L1_4_pointwise/Conv2D\n",
            "TfPoseEstimator/Openpose/MConv_Stage4_L1_4_pointwise/Conv2D_bn_offset\n",
            "TfPoseEstimator/Openpose/MConv_Stage4_L1_4_pointwise/BatchNorm/FusedBatchNorm\n",
            "TfPoseEstimator/Openpose/MConv_Stage4_L1_4_pointwise/Relu\n",
            "TfPoseEstimator/Openpose/MConv_Stage4_L1_5_depthwise/depthwise_weights\n",
            "TfPoseEstimator/Openpose/MConv_Stage4_L1_5_pointwise/weights\n",
            "TfPoseEstimator/Openpose/MConv_Stage4_L1_5_depthwise/depthwise\n",
            "TfPoseEstimator/Openpose/MConv_Stage4_L1_5_pointwise/Conv2D\n",
            "TfPoseEstimator/Openpose/MConv_Stage4_L1_5_pointwise/Conv2D_bn_offset\n",
            "TfPoseEstimator/Openpose/MConv_Stage4_L1_5_pointwise/BatchNorm/FusedBatchNorm\n",
            "TfPoseEstimator/Openpose/MConv_Stage4_L2_1_depthwise/depthwise_weights\n",
            "TfPoseEstimator/Openpose/MConv_Stage4_L2_1_pointwise/weights\n",
            "TfPoseEstimator/Openpose/MConv_Stage4_L2_1_depthwise/depthwise\n",
            "TfPoseEstimator/Openpose/MConv_Stage4_L2_1_pointwise/Conv2D\n",
            "TfPoseEstimator/Openpose/MConv_Stage4_L2_1_pointwise/Conv2D_bn_offset\n",
            "TfPoseEstimator/Openpose/MConv_Stage4_L2_1_pointwise/BatchNorm/FusedBatchNorm\n",
            "TfPoseEstimator/Openpose/MConv_Stage4_L2_1_pointwise/Relu\n",
            "TfPoseEstimator/Openpose/MConv_Stage4_L2_2_depthwise/depthwise_weights\n",
            "TfPoseEstimator/Openpose/MConv_Stage4_L2_2_pointwise/weights\n",
            "TfPoseEstimator/Openpose/MConv_Stage4_L2_2_depthwise/depthwise\n",
            "TfPoseEstimator/Openpose/MConv_Stage4_L2_2_pointwise/Conv2D\n",
            "TfPoseEstimator/Openpose/MConv_Stage4_L2_2_pointwise/Conv2D_bn_offset\n",
            "TfPoseEstimator/Openpose/MConv_Stage4_L2_2_pointwise/BatchNorm/FusedBatchNorm\n",
            "TfPoseEstimator/Openpose/MConv_Stage4_L2_2_pointwise/Relu\n",
            "TfPoseEstimator/Openpose/MConv_Stage4_L2_3_depthwise/depthwise_weights\n",
            "TfPoseEstimator/Openpose/MConv_Stage4_L2_3_pointwise/weights\n",
            "TfPoseEstimator/Openpose/MConv_Stage4_L2_3_depthwise/depthwise\n",
            "TfPoseEstimator/Openpose/MConv_Stage4_L2_3_pointwise/Conv2D\n",
            "TfPoseEstimator/Openpose/MConv_Stage4_L2_3_pointwise/Conv2D_bn_offset\n",
            "TfPoseEstimator/Openpose/MConv_Stage4_L2_3_pointwise/BatchNorm/FusedBatchNorm\n",
            "TfPoseEstimator/Openpose/MConv_Stage4_L2_3_pointwise/Relu\n",
            "TfPoseEstimator/Openpose/MConv_Stage4_L2_4_depthwise/depthwise_weights\n",
            "TfPoseEstimator/Openpose/MConv_Stage4_L2_4_pointwise/weights\n",
            "TfPoseEstimator/Openpose/MConv_Stage4_L2_4_depthwise/depthwise\n",
            "TfPoseEstimator/Openpose/MConv_Stage4_L2_4_pointwise/Conv2D\n",
            "TfPoseEstimator/Openpose/MConv_Stage4_L2_4_pointwise/Conv2D_bn_offset\n",
            "TfPoseEstimator/Openpose/MConv_Stage4_L2_4_pointwise/BatchNorm/FusedBatchNorm\n",
            "TfPoseEstimator/Openpose/MConv_Stage4_L2_4_pointwise/Relu\n",
            "TfPoseEstimator/Openpose/MConv_Stage4_L2_5_depthwise/depthwise_weights\n",
            "TfPoseEstimator/Openpose/MConv_Stage4_L2_5_pointwise/weights\n",
            "TfPoseEstimator/Openpose/MConv_Stage4_L2_5_depthwise/depthwise\n",
            "TfPoseEstimator/Openpose/MConv_Stage4_L2_5_pointwise/Conv2D\n",
            "TfPoseEstimator/Openpose/MConv_Stage4_L2_5_pointwise/Conv2D_bn_offset\n",
            "TfPoseEstimator/Openpose/MConv_Stage4_L2_5_pointwise/BatchNorm/FusedBatchNorm\n",
            "TfPoseEstimator/Openpose/MConv_Stage5_concat/axis\n",
            "TfPoseEstimator/Openpose/MConv_Stage5_concat\n",
            "TfPoseEstimator/Openpose/MConv_Stage5_L1_1_depthwise/depthwise_weights\n",
            "TfPoseEstimator/Openpose/MConv_Stage5_L1_1_pointwise/weights\n",
            "TfPoseEstimator/Openpose/MConv_Stage5_L1_1_depthwise/depthwise\n",
            "TfPoseEstimator/Openpose/MConv_Stage5_L1_1_pointwise/Conv2D\n",
            "TfPoseEstimator/Openpose/MConv_Stage5_L1_1_pointwise/Conv2D_bn_offset\n",
            "TfPoseEstimator/Openpose/MConv_Stage5_L1_1_pointwise/BatchNorm/FusedBatchNorm\n",
            "TfPoseEstimator/Openpose/MConv_Stage5_L1_1_pointwise/Relu\n",
            "TfPoseEstimator/Openpose/MConv_Stage5_L1_2_depthwise/depthwise_weights\n",
            "TfPoseEstimator/Openpose/MConv_Stage5_L1_2_pointwise/weights\n",
            "TfPoseEstimator/Openpose/MConv_Stage5_L1_2_depthwise/depthwise\n",
            "TfPoseEstimator/Openpose/MConv_Stage5_L1_2_pointwise/Conv2D\n",
            "TfPoseEstimator/Openpose/MConv_Stage5_L1_2_pointwise/Conv2D_bn_offset\n",
            "TfPoseEstimator/Openpose/MConv_Stage5_L1_2_pointwise/BatchNorm/FusedBatchNorm\n",
            "TfPoseEstimator/Openpose/MConv_Stage5_L1_2_pointwise/Relu\n",
            "TfPoseEstimator/Openpose/MConv_Stage5_L1_3_depthwise/depthwise_weights\n",
            "TfPoseEstimator/Openpose/MConv_Stage5_L1_3_pointwise/weights\n",
            "TfPoseEstimator/Openpose/MConv_Stage5_L1_3_depthwise/depthwise\n",
            "TfPoseEstimator/Openpose/MConv_Stage5_L1_3_pointwise/Conv2D\n",
            "TfPoseEstimator/Openpose/MConv_Stage5_L1_3_pointwise/Conv2D_bn_offset\n",
            "TfPoseEstimator/Openpose/MConv_Stage5_L1_3_pointwise/BatchNorm/FusedBatchNorm\n",
            "TfPoseEstimator/Openpose/MConv_Stage5_L1_3_pointwise/Relu\n",
            "TfPoseEstimator/Openpose/MConv_Stage5_L1_4_depthwise/depthwise_weights\n",
            "TfPoseEstimator/Openpose/MConv_Stage5_L1_4_pointwise/weights\n",
            "TfPoseEstimator/Openpose/MConv_Stage5_L1_4_depthwise/depthwise\n",
            "TfPoseEstimator/Openpose/MConv_Stage5_L1_4_pointwise/Conv2D\n",
            "TfPoseEstimator/Openpose/MConv_Stage5_L1_4_pointwise/Conv2D_bn_offset\n",
            "TfPoseEstimator/Openpose/MConv_Stage5_L1_4_pointwise/BatchNorm/FusedBatchNorm\n",
            "TfPoseEstimator/Openpose/MConv_Stage5_L1_4_pointwise/Relu\n",
            "TfPoseEstimator/Openpose/MConv_Stage5_L1_5_depthwise/depthwise_weights\n",
            "TfPoseEstimator/Openpose/MConv_Stage5_L1_5_pointwise/weights\n",
            "TfPoseEstimator/Openpose/MConv_Stage5_L1_5_depthwise/depthwise\n",
            "TfPoseEstimator/Openpose/MConv_Stage5_L1_5_pointwise/Conv2D\n",
            "TfPoseEstimator/Openpose/MConv_Stage5_L1_5_pointwise/Conv2D_bn_offset\n",
            "TfPoseEstimator/Openpose/MConv_Stage5_L1_5_pointwise/BatchNorm/FusedBatchNorm\n",
            "TfPoseEstimator/Openpose/MConv_Stage5_L2_1_depthwise/depthwise_weights\n",
            "TfPoseEstimator/Openpose/MConv_Stage5_L2_1_pointwise/weights\n",
            "TfPoseEstimator/Openpose/MConv_Stage5_L2_1_depthwise/depthwise\n",
            "TfPoseEstimator/Openpose/MConv_Stage5_L2_1_pointwise/Conv2D\n",
            "TfPoseEstimator/Openpose/MConv_Stage5_L2_1_pointwise/Conv2D_bn_offset\n",
            "TfPoseEstimator/Openpose/MConv_Stage5_L2_1_pointwise/BatchNorm/FusedBatchNorm\n",
            "TfPoseEstimator/Openpose/MConv_Stage5_L2_1_pointwise/Relu\n",
            "TfPoseEstimator/Openpose/MConv_Stage5_L2_2_depthwise/depthwise_weights\n",
            "TfPoseEstimator/Openpose/MConv_Stage5_L2_2_pointwise/weights\n",
            "TfPoseEstimator/Openpose/MConv_Stage5_L2_2_depthwise/depthwise\n",
            "TfPoseEstimator/Openpose/MConv_Stage5_L2_2_pointwise/Conv2D\n",
            "TfPoseEstimator/Openpose/MConv_Stage5_L2_2_pointwise/Conv2D_bn_offset\n",
            "TfPoseEstimator/Openpose/MConv_Stage5_L2_2_pointwise/BatchNorm/FusedBatchNorm\n",
            "TfPoseEstimator/Openpose/MConv_Stage5_L2_2_pointwise/Relu\n",
            "TfPoseEstimator/Openpose/MConv_Stage5_L2_3_depthwise/depthwise_weights\n",
            "TfPoseEstimator/Openpose/MConv_Stage5_L2_3_pointwise/weights\n",
            "TfPoseEstimator/Openpose/MConv_Stage5_L2_3_depthwise/depthwise\n",
            "TfPoseEstimator/Openpose/MConv_Stage5_L2_3_pointwise/Conv2D\n",
            "TfPoseEstimator/Openpose/MConv_Stage5_L2_3_pointwise/Conv2D_bn_offset\n",
            "TfPoseEstimator/Openpose/MConv_Stage5_L2_3_pointwise/BatchNorm/FusedBatchNorm\n",
            "TfPoseEstimator/Openpose/MConv_Stage5_L2_3_pointwise/Relu\n",
            "TfPoseEstimator/Openpose/MConv_Stage5_L2_4_depthwise/depthwise_weights\n",
            "TfPoseEstimator/Openpose/MConv_Stage5_L2_4_pointwise/weights\n",
            "TfPoseEstimator/Openpose/MConv_Stage5_L2_4_depthwise/depthwise\n",
            "TfPoseEstimator/Openpose/MConv_Stage5_L2_4_pointwise/Conv2D\n",
            "TfPoseEstimator/Openpose/MConv_Stage5_L2_4_pointwise/Conv2D_bn_offset\n",
            "TfPoseEstimator/Openpose/MConv_Stage5_L2_4_pointwise/BatchNorm/FusedBatchNorm\n",
            "TfPoseEstimator/Openpose/MConv_Stage5_L2_4_pointwise/Relu\n",
            "TfPoseEstimator/Openpose/MConv_Stage5_L2_5_depthwise/depthwise_weights\n",
            "TfPoseEstimator/Openpose/MConv_Stage5_L2_5_pointwise/weights\n",
            "TfPoseEstimator/Openpose/MConv_Stage5_L2_5_depthwise/depthwise\n",
            "TfPoseEstimator/Openpose/MConv_Stage5_L2_5_pointwise/Conv2D\n",
            "TfPoseEstimator/Openpose/MConv_Stage5_L2_5_pointwise/Conv2D_bn_offset\n",
            "TfPoseEstimator/Openpose/MConv_Stage5_L2_5_pointwise/BatchNorm/FusedBatchNorm\n",
            "TfPoseEstimator/Openpose/MConv_Stage6_concat/axis\n",
            "TfPoseEstimator/Openpose/MConv_Stage6_concat\n",
            "TfPoseEstimator/Openpose/MConv_Stage6_L1_1_depthwise/depthwise_weights\n",
            "TfPoseEstimator/Openpose/MConv_Stage6_L1_1_pointwise/weights\n",
            "TfPoseEstimator/Openpose/MConv_Stage6_L1_1_depthwise/depthwise\n",
            "TfPoseEstimator/Openpose/MConv_Stage6_L1_1_pointwise/Conv2D\n",
            "TfPoseEstimator/Openpose/MConv_Stage6_L1_1_pointwise/Conv2D_bn_offset\n",
            "TfPoseEstimator/Openpose/MConv_Stage6_L1_1_pointwise/BatchNorm/FusedBatchNorm\n",
            "TfPoseEstimator/Openpose/MConv_Stage6_L1_1_pointwise/Relu\n",
            "TfPoseEstimator/Openpose/MConv_Stage6_L1_2_depthwise/depthwise_weights\n",
            "TfPoseEstimator/Openpose/MConv_Stage6_L1_2_pointwise/weights\n",
            "TfPoseEstimator/Openpose/MConv_Stage6_L1_2_depthwise/depthwise\n",
            "TfPoseEstimator/Openpose/MConv_Stage6_L1_2_pointwise/Conv2D\n",
            "TfPoseEstimator/Openpose/MConv_Stage6_L1_2_pointwise/Conv2D_bn_offset\n",
            "TfPoseEstimator/Openpose/MConv_Stage6_L1_2_pointwise/BatchNorm/FusedBatchNorm\n",
            "TfPoseEstimator/Openpose/MConv_Stage6_L1_2_pointwise/Relu\n",
            "TfPoseEstimator/Openpose/MConv_Stage6_L1_3_depthwise/depthwise_weights\n",
            "TfPoseEstimator/Openpose/MConv_Stage6_L1_3_pointwise/weights\n",
            "TfPoseEstimator/Openpose/MConv_Stage6_L1_3_depthwise/depthwise\n",
            "TfPoseEstimator/Openpose/MConv_Stage6_L1_3_pointwise/Conv2D\n",
            "TfPoseEstimator/Openpose/MConv_Stage6_L1_3_pointwise/Conv2D_bn_offset\n",
            "TfPoseEstimator/Openpose/MConv_Stage6_L1_3_pointwise/BatchNorm/FusedBatchNorm\n",
            "TfPoseEstimator/Openpose/MConv_Stage6_L1_3_pointwise/Relu\n",
            "TfPoseEstimator/Openpose/MConv_Stage6_L1_4_depthwise/depthwise_weights\n",
            "TfPoseEstimator/Openpose/MConv_Stage6_L1_4_pointwise/weights\n",
            "TfPoseEstimator/Openpose/MConv_Stage6_L1_4_depthwise/depthwise\n",
            "TfPoseEstimator/Openpose/MConv_Stage6_L1_4_pointwise/Conv2D\n",
            "TfPoseEstimator/Openpose/MConv_Stage6_L1_4_pointwise/Conv2D_bn_offset\n",
            "TfPoseEstimator/Openpose/MConv_Stage6_L1_4_pointwise/BatchNorm/FusedBatchNorm\n",
            "TfPoseEstimator/Openpose/MConv_Stage6_L1_4_pointwise/Relu\n",
            "TfPoseEstimator/Openpose/MConv_Stage6_L1_5_depthwise/depthwise_weights\n",
            "TfPoseEstimator/Openpose/MConv_Stage6_L1_5_pointwise/weights\n",
            "TfPoseEstimator/Openpose/MConv_Stage6_L1_5_depthwise/depthwise\n",
            "TfPoseEstimator/Openpose/MConv_Stage6_L1_5_pointwise/Conv2D\n",
            "TfPoseEstimator/Openpose/MConv_Stage6_L1_5_pointwise/Conv2D_bn_offset\n",
            "TfPoseEstimator/Openpose/MConv_Stage6_L1_5_pointwise/BatchNorm/FusedBatchNorm\n",
            "TfPoseEstimator/Openpose/MConv_Stage6_L2_1_depthwise/depthwise_weights\n",
            "TfPoseEstimator/Openpose/MConv_Stage6_L2_1_pointwise/weights\n",
            "TfPoseEstimator/Openpose/MConv_Stage6_L2_1_depthwise/depthwise\n",
            "TfPoseEstimator/Openpose/MConv_Stage6_L2_1_pointwise/Conv2D\n",
            "TfPoseEstimator/Openpose/MConv_Stage6_L2_1_pointwise/Conv2D_bn_offset\n",
            "TfPoseEstimator/Openpose/MConv_Stage6_L2_1_pointwise/BatchNorm/FusedBatchNorm\n",
            "TfPoseEstimator/Openpose/MConv_Stage6_L2_1_pointwise/Relu\n",
            "TfPoseEstimator/Openpose/MConv_Stage6_L2_2_depthwise/depthwise_weights\n",
            "TfPoseEstimator/Openpose/MConv_Stage6_L2_2_pointwise/weights\n",
            "TfPoseEstimator/Openpose/MConv_Stage6_L2_2_depthwise/depthwise\n",
            "TfPoseEstimator/Openpose/MConv_Stage6_L2_2_pointwise/Conv2D\n",
            "TfPoseEstimator/Openpose/MConv_Stage6_L2_2_pointwise/Conv2D_bn_offset\n",
            "TfPoseEstimator/Openpose/MConv_Stage6_L2_2_pointwise/BatchNorm/FusedBatchNorm\n",
            "TfPoseEstimator/Openpose/MConv_Stage6_L2_2_pointwise/Relu\n",
            "TfPoseEstimator/Openpose/MConv_Stage6_L2_3_depthwise/depthwise_weights\n",
            "TfPoseEstimator/Openpose/MConv_Stage6_L2_3_pointwise/weights\n",
            "TfPoseEstimator/Openpose/MConv_Stage6_L2_3_depthwise/depthwise\n",
            "TfPoseEstimator/Openpose/MConv_Stage6_L2_3_pointwise/Conv2D\n",
            "TfPoseEstimator/Openpose/MConv_Stage6_L2_3_pointwise/Conv2D_bn_offset\n",
            "TfPoseEstimator/Openpose/MConv_Stage6_L2_3_pointwise/BatchNorm/FusedBatchNorm\n",
            "TfPoseEstimator/Openpose/MConv_Stage6_L2_3_pointwise/Relu\n",
            "TfPoseEstimator/Openpose/MConv_Stage6_L2_4_depthwise/depthwise_weights\n",
            "TfPoseEstimator/Openpose/MConv_Stage6_L2_4_pointwise/weights\n",
            "TfPoseEstimator/Openpose/MConv_Stage6_L2_4_depthwise/depthwise\n",
            "TfPoseEstimator/Openpose/MConv_Stage6_L2_4_pointwise/Conv2D\n",
            "TfPoseEstimator/Openpose/MConv_Stage6_L2_4_pointwise/Conv2D_bn_offset\n",
            "TfPoseEstimator/Openpose/MConv_Stage6_L2_4_pointwise/BatchNorm/FusedBatchNorm\n",
            "TfPoseEstimator/Openpose/MConv_Stage6_L2_4_pointwise/Relu\n",
            "TfPoseEstimator/Openpose/MConv_Stage6_L2_5_depthwise/depthwise_weights\n",
            "TfPoseEstimator/Openpose/MConv_Stage6_L2_5_pointwise/weights\n",
            "TfPoseEstimator/Openpose/MConv_Stage6_L2_5_depthwise/depthwise\n",
            "TfPoseEstimator/Openpose/MConv_Stage6_L2_5_pointwise/Conv2D\n",
            "TfPoseEstimator/Openpose/MConv_Stage6_L2_5_pointwise/Conv2D_bn_offset\n",
            "TfPoseEstimator/Openpose/MConv_Stage6_L2_5_pointwise/BatchNorm/FusedBatchNorm\n",
            "TfPoseEstimator/Openpose/concat_stage7/axis\n",
            "TfPoseEstimator/Openpose/concat_stage7\n"
          ],
          "name": "stdout"
        },
        {
          "output_type": "stream",
          "text": [
            "[2019-08-28 17:10:00,468] [TfPoseEstimatorRun] [INFO] inference image: ./images/p1.jpg in 0.0228 seconds.\n",
            "I0828 17:10:00.468498 139649680385920 run.py:51] inference image: ./images/p1.jpg in 0.0228 seconds.\n"
          ],
          "name": "stderr"
        },
        {
          "output_type": "display_data",
          "data": {
            "image/png": "[encoded data removed]",
            "text/plain": [
              "<Figure size 432x288 with 7 Axes>"
            ]
          },
          "metadata": {
            "tags": []
          }
        }
      ]
    }
  ]
}